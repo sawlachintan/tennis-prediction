{
 "cells": [
  {
   "attachments": {},
   "cell_type": "markdown",
   "metadata": {},
   "source": [
    "# Import Libraries"
   ]
  },
  {
   "cell_type": "code",
   "execution_count": 9,
   "metadata": {},
   "outputs": [],
   "source": [
    "import pandas as pd\n",
    "from difflib import get_close_matches\n",
    "import numpy as np\n",
    "from sklearn.neural_network import MLPClassifier\n",
    "from sklearn.linear_model import LogisticRegression\n",
    "import matplotlib.pyplot as plt"
   ]
  },
  {
   "cell_type": "code",
   "execution_count": 49,
   "metadata": {},
   "outputs": [
    {
     "data": {
      "text/html": [
       "<div>\n",
       "<style scoped>\n",
       "    .dataframe tbody tr th:only-of-type {\n",
       "        vertical-align: middle;\n",
       "    }\n",
       "\n",
       "    .dataframe tbody tr th {\n",
       "        vertical-align: top;\n",
       "    }\n",
       "\n",
       "    .dataframe thead th {\n",
       "        text-align: right;\n",
       "    }\n",
       "</style>\n",
       "<table border=\"1\" class=\"dataframe\">\n",
       "  <thead>\n",
       "    <tr style=\"text-align: right;\">\n",
       "      <th></th>\n",
       "      <th>name</th>\n",
       "      <th>year</th>\n",
       "      <th>aces</th>\n",
       "      <th>double_faults</th>\n",
       "      <th>1st_serve</th>\n",
       "      <th>1st_serve_points_won</th>\n",
       "      <th>2nd_serve_points_won</th>\n",
       "      <th>break_points_faced</th>\n",
       "      <th>break_points_saved</th>\n",
       "      <th>service_games_played</th>\n",
       "      <th>...</th>\n",
       "      <th>total_points_won</th>\n",
       "      <th>rank_x</th>\n",
       "      <th>height (cm)</th>\n",
       "      <th>matches_played</th>\n",
       "      <th>rank_y</th>\n",
       "      <th>pressure_rating</th>\n",
       "      <th>break_pts_converted%</th>\n",
       "      <th>break_pts_saved%</th>\n",
       "      <th>tie_breaks%</th>\n",
       "      <th>deciding_sets%</th>\n",
       "    </tr>\n",
       "  </thead>\n",
       "  <tbody>\n",
       "    <tr>\n",
       "      <th>0</th>\n",
       "      <td>Novak Djokovic</td>\n",
       "      <td>2018</td>\n",
       "      <td>174</td>\n",
       "      <td>91</td>\n",
       "      <td>64%</td>\n",
       "      <td>74%</td>\n",
       "      <td>58%</td>\n",
       "      <td>157</td>\n",
       "      <td>66%</td>\n",
       "      <td>457</td>\n",
       "      <td>...</td>\n",
       "      <td>54%</td>\n",
       "      <td>1.0</td>\n",
       "      <td>188</td>\n",
       "      <td>42</td>\n",
       "      <td>5.0</td>\n",
       "      <td>244.5</td>\n",
       "      <td>36.6%</td>\n",
       "      <td>66.2%</td>\n",
       "      <td>66.7%</td>\n",
       "      <td>75.0%</td>\n",
       "    </tr>\n",
       "    <tr>\n",
       "      <th>1</th>\n",
       "      <td>Mitchell Krueger</td>\n",
       "      <td>2018</td>\n",
       "      <td>17</td>\n",
       "      <td>8</td>\n",
       "      <td>58%</td>\n",
       "      <td>69%</td>\n",
       "      <td>48%</td>\n",
       "      <td>27</td>\n",
       "      <td>48%</td>\n",
       "      <td>50</td>\n",
       "      <td>...</td>\n",
       "      <td>46%</td>\n",
       "      <td>231.0</td>\n",
       "      <td>188</td>\n",
       "      <td>44</td>\n",
       "      <td>NaN</td>\n",
       "      <td>NaN</td>\n",
       "      <td>NaN</td>\n",
       "      <td>NaN</td>\n",
       "      <td>NaN</td>\n",
       "      <td>NaN</td>\n",
       "    </tr>\n",
       "    <tr>\n",
       "      <th>2</th>\n",
       "      <td>Rafael Nadal</td>\n",
       "      <td>2018</td>\n",
       "      <td>54</td>\n",
       "      <td>32</td>\n",
       "      <td>67%</td>\n",
       "      <td>71%</td>\n",
       "      <td>55%</td>\n",
       "      <td>129</td>\n",
       "      <td>68%</td>\n",
       "      <td>237</td>\n",
       "      <td>...</td>\n",
       "      <td>53%</td>\n",
       "      <td>2.0</td>\n",
       "      <td>185</td>\n",
       "      <td>17</td>\n",
       "      <td>4.0</td>\n",
       "      <td>244.5</td>\n",
       "      <td>42.9%</td>\n",
       "      <td>68.2%</td>\n",
       "      <td>66.7%</td>\n",
       "      <td>66.7%</td>\n",
       "    </tr>\n",
       "    <tr>\n",
       "      <th>3</th>\n",
       "      <td>James Duckworth</td>\n",
       "      <td>2018</td>\n",
       "      <td>45</td>\n",
       "      <td>25</td>\n",
       "      <td>49%</td>\n",
       "      <td>78%</td>\n",
       "      <td>47%</td>\n",
       "      <td>35</td>\n",
       "      <td>51%</td>\n",
       "      <td>70</td>\n",
       "      <td>...</td>\n",
       "      <td>48%</td>\n",
       "      <td>238.0</td>\n",
       "      <td>183</td>\n",
       "      <td>26</td>\n",
       "      <td>NaN</td>\n",
       "      <td>194.0</td>\n",
       "      <td>NaN</td>\n",
       "      <td>NaN</td>\n",
       "      <td>NaN</td>\n",
       "      <td>NaN</td>\n",
       "    </tr>\n",
       "    <tr>\n",
       "      <th>4</th>\n",
       "      <td>Roger Federer</td>\n",
       "      <td>2018</td>\n",
       "      <td>401</td>\n",
       "      <td>98</td>\n",
       "      <td>61%</td>\n",
       "      <td>79%</td>\n",
       "      <td>58%</td>\n",
       "      <td>173</td>\n",
       "      <td>69%</td>\n",
       "      <td>551</td>\n",
       "      <td>...</td>\n",
       "      <td>54%</td>\n",
       "      <td>3.0</td>\n",
       "      <td>185</td>\n",
       "      <td>52</td>\n",
       "      <td>9.0</td>\n",
       "      <td>241.2</td>\n",
       "      <td>43.2%</td>\n",
       "      <td>68.8%</td>\n",
       "      <td>56.5%</td>\n",
       "      <td>72.7%</td>\n",
       "    </tr>\n",
       "  </tbody>\n",
       "</table>\n",
       "<p>5 rows × 29 columns</p>\n",
       "</div>"
      ],
      "text/plain": [
       "               name  year  aces  double_faults 1st_serve 1st_serve_points_won  \\\n",
       "0    Novak Djokovic  2018   174             91       64%                  74%   \n",
       "1  Mitchell Krueger  2018    17              8       58%                  69%   \n",
       "2      Rafael Nadal  2018    54             32       67%                  71%   \n",
       "3   James Duckworth  2018    45             25       49%                  78%   \n",
       "4     Roger Federer  2018   401             98       61%                  79%   \n",
       "\n",
       "  2nd_serve_points_won  break_points_faced break_points_saved  \\\n",
       "0                  58%                 157                66%   \n",
       "1                  48%                  27                48%   \n",
       "2                  55%                 129                68%   \n",
       "3                  47%                  35                51%   \n",
       "4                  58%                 173                69%   \n",
       "\n",
       "   service_games_played  ... total_points_won rank_x height (cm)  \\\n",
       "0                   457  ...              54%    1.0         188   \n",
       "1                    50  ...              46%  231.0         188   \n",
       "2                   237  ...              53%    2.0         185   \n",
       "3                    70  ...              48%  238.0         183   \n",
       "4                   551  ...              54%    3.0         185   \n",
       "\n",
       "  matches_played  rank_y pressure_rating  break_pts_converted%  \\\n",
       "0             42     5.0           244.5                 36.6%   \n",
       "1             44     NaN             NaN                   NaN   \n",
       "2             17     4.0           244.5                 42.9%   \n",
       "3             26     NaN           194.0                   NaN   \n",
       "4             52     9.0           241.2                 43.2%   \n",
       "\n",
       "  break_pts_saved% tie_breaks% deciding_sets%  \n",
       "0            66.2%       66.7%          75.0%  \n",
       "1              NaN         NaN            NaN  \n",
       "2            68.2%       66.7%          66.7%  \n",
       "3              NaN         NaN            NaN  \n",
       "4            68.8%       56.5%          72.7%  \n",
       "\n",
       "[5 rows x 29 columns]"
      ]
     },
     "execution_count": 49,
     "metadata": {},
     "output_type": "execute_result"
    }
   ],
   "source": [
    "df = pd.read_csv('./data/aus-open-player-stats-2018.csv')\n",
    "df.head()"
   ]
  },
  {
   "cell_type": "code",
   "execution_count": 50,
   "metadata": {},
   "outputs": [],
   "source": [
    "def rank_gr(rank: float, group_lim: int = 15):\n",
    "    ranges = list(range(0, 100, group_lim))\n",
    "    if rank not in list(range(1, 1000)):\n",
    "        return len(ranges)\n",
    "\n",
    "    for idx,num in enumerate(ranges):\n",
    "        if num - rank >= 0:\n",
    "            return idx\n",
    "    return len(ranges)\n",
    "df['rank_group'] = df['rank_x'].apply(lambda x: rank_gr(x, 20))"
   ]
  },
  {
   "cell_type": "code",
   "execution_count": 51,
   "metadata": {},
   "outputs": [],
   "source": [
    "import plotly.express as px"
   ]
  },
  {
   "cell_type": "code",
   "execution_count": 52,
   "metadata": {},
   "outputs": [
    {
     "data": {
      "text/html": [
       "<div>\n",
       "<style scoped>\n",
       "    .dataframe tbody tr th:only-of-type {\n",
       "        vertical-align: middle;\n",
       "    }\n",
       "\n",
       "    .dataframe tbody tr th {\n",
       "        vertical-align: top;\n",
       "    }\n",
       "\n",
       "    .dataframe thead th {\n",
       "        text-align: right;\n",
       "    }\n",
       "</style>\n",
       "<table border=\"1\" class=\"dataframe\">\n",
       "  <thead>\n",
       "    <tr style=\"text-align: right;\">\n",
       "      <th></th>\n",
       "      <th>rank_group</th>\n",
       "      <th>pressure_rating</th>\n",
       "    </tr>\n",
       "  </thead>\n",
       "  <tbody>\n",
       "    <tr>\n",
       "      <th>0</th>\n",
       "      <td>1</td>\n",
       "      <td>216.505263</td>\n",
       "    </tr>\n",
       "    <tr>\n",
       "      <th>1</th>\n",
       "      <td>2</td>\n",
       "      <td>206.578947</td>\n",
       "    </tr>\n",
       "    <tr>\n",
       "      <th>2</th>\n",
       "      <td>3</td>\n",
       "      <td>203.165000</td>\n",
       "    </tr>\n",
       "    <tr>\n",
       "      <th>3</th>\n",
       "      <td>4</td>\n",
       "      <td>185.227778</td>\n",
       "    </tr>\n",
       "    <tr>\n",
       "      <th>4</th>\n",
       "      <td>5</td>\n",
       "      <td>191.688095</td>\n",
       "    </tr>\n",
       "  </tbody>\n",
       "</table>\n",
       "</div>"
      ],
      "text/plain": [
       "   rank_group  pressure_rating\n",
       "0           1       216.505263\n",
       "1           2       206.578947\n",
       "2           3       203.165000\n",
       "3           4       185.227778\n",
       "4           5       191.688095"
      ]
     },
     "execution_count": 52,
     "metadata": {},
     "output_type": "execute_result"
    }
   ],
   "source": [
    "grp_rank_pr = df.groupby('rank_group').agg({'pressure_rating':'mean'}).reset_index()\n",
    "grp_rank_pr"
   ]
  },
  {
   "cell_type": "code",
   "execution_count": 53,
   "metadata": {},
   "outputs": [
    {
     "data": {
      "text/html": [
       "<div>\n",
       "<style scoped>\n",
       "    .dataframe tbody tr th:only-of-type {\n",
       "        vertical-align: middle;\n",
       "    }\n",
       "\n",
       "    .dataframe tbody tr th {\n",
       "        vertical-align: top;\n",
       "    }\n",
       "\n",
       "    .dataframe thead th {\n",
       "        text-align: right;\n",
       "    }\n",
       "</style>\n",
       "<table border=\"1\" class=\"dataframe\">\n",
       "  <thead>\n",
       "    <tr style=\"text-align: right;\">\n",
       "      <th></th>\n",
       "      <th>name</th>\n",
       "      <th>year</th>\n",
       "      <th>aces</th>\n",
       "      <th>double_faults</th>\n",
       "      <th>1st_serve</th>\n",
       "      <th>1st_serve_points_won</th>\n",
       "      <th>2nd_serve_points_won</th>\n",
       "      <th>break_points_faced</th>\n",
       "      <th>break_points_saved</th>\n",
       "      <th>service_games_played</th>\n",
       "      <th>...</th>\n",
       "      <th>rank_x</th>\n",
       "      <th>height (cm)</th>\n",
       "      <th>matches_played</th>\n",
       "      <th>rank_y</th>\n",
       "      <th>pressure_rating</th>\n",
       "      <th>break_pts_converted%</th>\n",
       "      <th>break_pts_saved%</th>\n",
       "      <th>tie_breaks%</th>\n",
       "      <th>deciding_sets%</th>\n",
       "      <th>rank_group</th>\n",
       "    </tr>\n",
       "  </thead>\n",
       "  <tbody>\n",
       "    <tr>\n",
       "      <th>113</th>\n",
       "      <td>Mischa Zverev</td>\n",
       "      <td>2018</td>\n",
       "      <td>154</td>\n",
       "      <td>78</td>\n",
       "      <td>58%</td>\n",
       "      <td>72%</td>\n",
       "      <td>47%</td>\n",
       "      <td>162</td>\n",
       "      <td>54%</td>\n",
       "      <td>282</td>\n",
       "      <td>...</td>\n",
       "      <td>68.0</td>\n",
       "      <td>191</td>\n",
       "      <td>27</td>\n",
       "      <td>68.0</td>\n",
       "      <td>128.5</td>\n",
       "      <td>35.3%</td>\n",
       "      <td>54.3%</td>\n",
       "      <td>16.7%</td>\n",
       "      <td>22.2%</td>\n",
       "      <td>4</td>\n",
       "    </tr>\n",
       "    <tr>\n",
       "      <th>51</th>\n",
       "      <td>Miomir Kecmanovic</td>\n",
       "      <td>2018</td>\n",
       "      <td>1</td>\n",
       "      <td>2</td>\n",
       "      <td>57%</td>\n",
       "      <td>65%</td>\n",
       "      <td>48%</td>\n",
       "      <td>11</td>\n",
       "      <td>64%</td>\n",
       "      <td>11</td>\n",
       "      <td>...</td>\n",
       "      <td>126.0</td>\n",
       "      <td>183</td>\n",
       "      <td>48</td>\n",
       "      <td>67.0</td>\n",
       "      <td>130.3</td>\n",
       "      <td>66.7%</td>\n",
       "      <td>63.6%</td>\n",
       "      <td>0.0%</td>\n",
       "      <td>0.0%</td>\n",
       "      <td>5</td>\n",
       "    </tr>\n",
       "    <tr>\n",
       "      <th>97</th>\n",
       "      <td>Hubert Hurkacz</td>\n",
       "      <td>2018</td>\n",
       "      <td>67</td>\n",
       "      <td>34</td>\n",
       "      <td>61%</td>\n",
       "      <td>67%</td>\n",
       "      <td>50%</td>\n",
       "      <td>79</td>\n",
       "      <td>58%</td>\n",
       "      <td>121</td>\n",
       "      <td>...</td>\n",
       "      <td>88.0</td>\n",
       "      <td>196</td>\n",
       "      <td>55</td>\n",
       "      <td>66.0</td>\n",
       "      <td>133.2</td>\n",
       "      <td>35.7%</td>\n",
       "      <td>58.2%</td>\n",
       "      <td>14.3%</td>\n",
       "      <td>25.0%</td>\n",
       "      <td>5</td>\n",
       "    </tr>\n",
       "    <tr>\n",
       "      <th>61</th>\n",
       "      <td>Steve Johnson</td>\n",
       "      <td>2018</td>\n",
       "      <td>208</td>\n",
       "      <td>79</td>\n",
       "      <td>57%</td>\n",
       "      <td>74%</td>\n",
       "      <td>53%</td>\n",
       "      <td>147</td>\n",
       "      <td>67%</td>\n",
       "      <td>316</td>\n",
       "      <td>...</td>\n",
       "      <td>33.0</td>\n",
       "      <td>188</td>\n",
       "      <td>33</td>\n",
       "      <td>65.0</td>\n",
       "      <td>148.5</td>\n",
       "      <td>38.3%</td>\n",
       "      <td>67.3%</td>\n",
       "      <td>42.9%</td>\n",
       "      <td>0.0%</td>\n",
       "      <td>2</td>\n",
       "    </tr>\n",
       "    <tr>\n",
       "      <th>23</th>\n",
       "      <td>Jaume Munar</td>\n",
       "      <td>2018</td>\n",
       "      <td>84</td>\n",
       "      <td>44</td>\n",
       "      <td>63%</td>\n",
       "      <td>70%</td>\n",
       "      <td>48%</td>\n",
       "      <td>126</td>\n",
       "      <td>66%</td>\n",
       "      <td>173</td>\n",
       "      <td>...</td>\n",
       "      <td>74.0</td>\n",
       "      <td>183</td>\n",
       "      <td>32</td>\n",
       "      <td>NaN</td>\n",
       "      <td>153.0</td>\n",
       "      <td>NaN</td>\n",
       "      <td>NaN</td>\n",
       "      <td>NaN</td>\n",
       "      <td>NaN</td>\n",
       "      <td>4</td>\n",
       "    </tr>\n",
       "    <tr>\n",
       "      <th>...</th>\n",
       "      <td>...</td>\n",
       "      <td>...</td>\n",
       "      <td>...</td>\n",
       "      <td>...</td>\n",
       "      <td>...</td>\n",
       "      <td>...</td>\n",
       "      <td>...</td>\n",
       "      <td>...</td>\n",
       "      <td>...</td>\n",
       "      <td>...</td>\n",
       "      <td>...</td>\n",
       "      <td>...</td>\n",
       "      <td>...</td>\n",
       "      <td>...</td>\n",
       "      <td>...</td>\n",
       "      <td>...</td>\n",
       "      <td>...</td>\n",
       "      <td>...</td>\n",
       "      <td>...</td>\n",
       "      <td>...</td>\n",
       "      <td>...</td>\n",
       "    </tr>\n",
       "    <tr>\n",
       "      <th>83</th>\n",
       "      <td>Jason Kubler</td>\n",
       "      <td>2018</td>\n",
       "      <td>24</td>\n",
       "      <td>31</td>\n",
       "      <td>60%</td>\n",
       "      <td>67%</td>\n",
       "      <td>39%</td>\n",
       "      <td>43</td>\n",
       "      <td>51%</td>\n",
       "      <td>61</td>\n",
       "      <td>...</td>\n",
       "      <td>131.0</td>\n",
       "      <td>178</td>\n",
       "      <td>61</td>\n",
       "      <td>NaN</td>\n",
       "      <td>NaN</td>\n",
       "      <td>NaN</td>\n",
       "      <td>NaN</td>\n",
       "      <td>NaN</td>\n",
       "      <td>NaN</td>\n",
       "      <td>5</td>\n",
       "    </tr>\n",
       "    <tr>\n",
       "      <th>99</th>\n",
       "      <td>Marc Polmans</td>\n",
       "      <td>2018</td>\n",
       "      <td>0</td>\n",
       "      <td>0</td>\n",
       "      <td>0%</td>\n",
       "      <td>0%</td>\n",
       "      <td>0%</td>\n",
       "      <td>0</td>\n",
       "      <td>0%</td>\n",
       "      <td>0</td>\n",
       "      <td>...</td>\n",
       "      <td>170.0</td>\n",
       "      <td>188</td>\n",
       "      <td>33</td>\n",
       "      <td>NaN</td>\n",
       "      <td>NaN</td>\n",
       "      <td>NaN</td>\n",
       "      <td>NaN</td>\n",
       "      <td>NaN</td>\n",
       "      <td>NaN</td>\n",
       "      <td>5</td>\n",
       "    </tr>\n",
       "    <tr>\n",
       "      <th>103</th>\n",
       "      <td>Gleb Sakharov</td>\n",
       "      <td>2018</td>\n",
       "      <td>6</td>\n",
       "      <td>2</td>\n",
       "      <td>57%</td>\n",
       "      <td>72%</td>\n",
       "      <td>36%</td>\n",
       "      <td>10</td>\n",
       "      <td>60%</td>\n",
       "      <td>9</td>\n",
       "      <td>...</td>\n",
       "      <td>250.0</td>\n",
       "      <td>185</td>\n",
       "      <td>33</td>\n",
       "      <td>NaN</td>\n",
       "      <td>NaN</td>\n",
       "      <td>NaN</td>\n",
       "      <td>NaN</td>\n",
       "      <td>NaN</td>\n",
       "      <td>NaN</td>\n",
       "      <td>5</td>\n",
       "    </tr>\n",
       "    <tr>\n",
       "      <th>119</th>\n",
       "      <td>Prajnesh Gunneswaran</td>\n",
       "      <td>2018</td>\n",
       "      <td>7</td>\n",
       "      <td>9</td>\n",
       "      <td>56%</td>\n",
       "      <td>63%</td>\n",
       "      <td>39%</td>\n",
       "      <td>19</td>\n",
       "      <td>37%</td>\n",
       "      <td>25</td>\n",
       "      <td>...</td>\n",
       "      <td>112.0</td>\n",
       "      <td>188</td>\n",
       "      <td>48</td>\n",
       "      <td>NaN</td>\n",
       "      <td>NaN</td>\n",
       "      <td>NaN</td>\n",
       "      <td>NaN</td>\n",
       "      <td>NaN</td>\n",
       "      <td>NaN</td>\n",
       "      <td>5</td>\n",
       "    </tr>\n",
       "    <tr>\n",
       "      <th>121</th>\n",
       "      <td>Guido Andreozzi</td>\n",
       "      <td>2018</td>\n",
       "      <td>21</td>\n",
       "      <td>23</td>\n",
       "      <td>57%</td>\n",
       "      <td>69%</td>\n",
       "      <td>41%</td>\n",
       "      <td>50</td>\n",
       "      <td>70%</td>\n",
       "      <td>45</td>\n",
       "      <td>...</td>\n",
       "      <td>80.0</td>\n",
       "      <td>183</td>\n",
       "      <td>8</td>\n",
       "      <td>NaN</td>\n",
       "      <td>NaN</td>\n",
       "      <td>NaN</td>\n",
       "      <td>NaN</td>\n",
       "      <td>NaN</td>\n",
       "      <td>NaN</td>\n",
       "      <td>4</td>\n",
       "    </tr>\n",
       "  </tbody>\n",
       "</table>\n",
       "<p>128 rows × 30 columns</p>\n",
       "</div>"
      ],
      "text/plain": [
       "                     name  year  aces  double_faults 1st_serve  \\\n",
       "113         Mischa Zverev  2018   154             78       58%   \n",
       "51      Miomir Kecmanovic  2018     1              2       57%   \n",
       "97         Hubert Hurkacz  2018    67             34       61%   \n",
       "61          Steve Johnson  2018   208             79       57%   \n",
       "23            Jaume Munar  2018    84             44       63%   \n",
       "..                    ...   ...   ...            ...       ...   \n",
       "83           Jason Kubler  2018    24             31       60%   \n",
       "99           Marc Polmans  2018     0              0        0%   \n",
       "103         Gleb Sakharov  2018     6              2       57%   \n",
       "119  Prajnesh Gunneswaran  2018     7              9       56%   \n",
       "121       Guido Andreozzi  2018    21             23       57%   \n",
       "\n",
       "    1st_serve_points_won 2nd_serve_points_won  break_points_faced  \\\n",
       "113                  72%                  47%                 162   \n",
       "51                   65%                  48%                  11   \n",
       "97                   67%                  50%                  79   \n",
       "61                   74%                  53%                 147   \n",
       "23                   70%                  48%                 126   \n",
       "..                   ...                  ...                 ...   \n",
       "83                   67%                  39%                  43   \n",
       "99                    0%                   0%                   0   \n",
       "103                  72%                  36%                  10   \n",
       "119                  63%                  39%                  19   \n",
       "121                  69%                  41%                  50   \n",
       "\n",
       "    break_points_saved  service_games_played  ... rank_x height (cm)  \\\n",
       "113                54%                   282  ...   68.0         191   \n",
       "51                 64%                    11  ...  126.0         183   \n",
       "97                 58%                   121  ...   88.0         196   \n",
       "61                 67%                   316  ...   33.0         188   \n",
       "23                 66%                   173  ...   74.0         183   \n",
       "..                 ...                   ...  ...    ...         ...   \n",
       "83                 51%                    61  ...  131.0         178   \n",
       "99                  0%                     0  ...  170.0         188   \n",
       "103                60%                     9  ...  250.0         185   \n",
       "119                37%                    25  ...  112.0         188   \n",
       "121                70%                    45  ...   80.0         183   \n",
       "\n",
       "    matches_played rank_y  pressure_rating break_pts_converted%  \\\n",
       "113             27   68.0            128.5                35.3%   \n",
       "51              48   67.0            130.3                66.7%   \n",
       "97              55   66.0            133.2                35.7%   \n",
       "61              33   65.0            148.5                38.3%   \n",
       "23              32    NaN            153.0                  NaN   \n",
       "..             ...    ...              ...                  ...   \n",
       "83              61    NaN              NaN                  NaN   \n",
       "99              33    NaN              NaN                  NaN   \n",
       "103             33    NaN              NaN                  NaN   \n",
       "119             48    NaN              NaN                  NaN   \n",
       "121              8    NaN              NaN                  NaN   \n",
       "\n",
       "     break_pts_saved% tie_breaks% deciding_sets% rank_group  \n",
       "113             54.3%       16.7%          22.2%          4  \n",
       "51              63.6%        0.0%           0.0%          5  \n",
       "97              58.2%       14.3%          25.0%          5  \n",
       "61              67.3%       42.9%           0.0%          2  \n",
       "23                NaN         NaN            NaN          4  \n",
       "..                ...         ...            ...        ...  \n",
       "83                NaN         NaN            NaN          5  \n",
       "99                NaN         NaN            NaN          5  \n",
       "103               NaN         NaN            NaN          5  \n",
       "119               NaN         NaN            NaN          5  \n",
       "121               NaN         NaN            NaN          4  \n",
       "\n",
       "[128 rows x 30 columns]"
      ]
     },
     "execution_count": 53,
     "metadata": {},
     "output_type": "execute_result"
    }
   ],
   "source": [
    "df.sort_values('pressure_rating')"
   ]
  },
  {
   "cell_type": "code",
   "execution_count": 54,
   "metadata": {},
   "outputs": [],
   "source": [
    "grp_rank_pr.set_index('rank_group', inplace=True)\n",
    "df.set_index('rank_group', inplace=True)"
   ]
  },
  {
   "cell_type": "code",
   "execution_count": 55,
   "metadata": {},
   "outputs": [],
   "source": [
    "df['pressure_rating'].fillna(grp_rank_pr['pressure_rating'], inplace=True)"
   ]
  },
  {
   "cell_type": "code",
   "execution_count": 56,
   "metadata": {},
   "outputs": [],
   "source": [
    "df.reset_index(inplace=True)"
   ]
  },
  {
   "cell_type": "code",
   "execution_count": 62,
   "metadata": {},
   "outputs": [
    {
     "data": {
      "application/vnd.plotly.v1+json": {
       "config": {
        "plotlyServerURL": "https://plot.ly"
       },
       "data": [
        {
         "hovertemplate": "rank_x=%{x}<br>pressure_rating=%{y}<br>rank_group=%{marker.color}<extra></extra>",
         "legendgroup": "",
         "marker": {
          "color": [
           1,
           5,
           1,
           5,
           1,
           5,
           1,
           4,
           1,
           3,
           1,
           5,
           1,
           3,
           1,
           5,
           5,
           1,
           1,
           3,
           1,
           5,
           1,
           4,
           3,
           1,
           1,
           3,
           1,
           5,
           1,
           3,
           5,
           1,
           1,
           5,
           1,
           5,
           2,
           5,
           2,
           5,
           2,
           5,
           2,
           5,
           2,
           4,
           2,
           5,
           2,
           5,
           2,
           5,
           2,
           3,
           2,
           5,
           2,
           3,
           2,
           2,
           2,
           5,
           5,
           5,
           5,
           5,
           2,
           5,
           4,
           5,
           5,
           3,
           4,
           5,
           5,
           5,
           3,
           3,
           5,
           5,
           5,
           5,
           3,
           5,
           2,
           4,
           3,
           5,
           5,
           5,
           3,
           3,
           5,
           3,
           4,
           5,
           4,
           5,
           5,
           5,
           4,
           5,
           3,
           3,
           4,
           5,
           2,
           4,
           4,
           4,
           5,
           4,
           3,
           4,
           4,
           4,
           2,
           5,
           5,
           4,
           5,
           4,
           5,
           2,
           3,
           5
          ],
          "coloraxis": "coloraxis",
          "symbol": "circle"
         },
         "mode": "markers",
         "name": "",
         "orientation": "v",
         "showlegend": false,
         "type": "scatter",
         "x": [
          1,
          231,
          2,
          238,
          3,
          99,
          4,
          67,
          6,
          41,
          7,
          85,
          8,
          55,
          9,
          176,
          102,
          10,
          11,
          60,
          12,
          315,
          13,
          74,
          57,
          14,
          15,
          52,
          16,
          119,
          17,
          51,
          92,
          18,
          19,
          207,
          20,
          171,
          21,
          null,
          22,
          86,
          23,
          230,
          24,
          164,
          25,
          76,
          27,
          82,
          28,
          126,
          29,
          103,
          30,
          56,
          31,
          135,
          32,
          46,
          37,
          33,
          34,
          261,
          96,
          108,
          159,
          105,
          36,
          98,
          61,
          110,
          90,
          45,
          78,
          145,
          95,
          91,
          47,
          58,
          190,
          151,
          100,
          131,
          50,
          93,
          35,
          65,
          49,
          101,
          81,
          87,
          53,
          48,
          94,
          42,
          69,
          88,
          62,
          170,
          166,
          97,
          70,
          250,
          54,
          43,
          79,
          84,
          38,
          77,
          75,
          63,
          149,
          68,
          44,
          66,
          72,
          64,
          39,
          112,
          139,
          80,
          201,
          73,
          177,
          40,
          59,
          83
         ],
         "xaxis": "x",
         "y": [
          244.5,
          191.68809523809523,
          244.5,
          194,
          241.2,
          194.1,
          211.4,
          199.6,
          250.2,
          214.5,
          190.2,
          213.8,
          213.7,
          225.7,
          242.6,
          183.8,
          205.3,
          200.7,
          214.5,
          203.7,
          218.4,
          205.4,
          207.4,
          153,
          214.2,
          214.1,
          229.5,
          176.2,
          231.3,
          196.8,
          190.4,
          232,
          168.7,
          155.5,
          197.2,
          191.68809523809523,
          216.3,
          180.8,
          231.4,
          192.8,
          214.9,
          182.8,
          227.1,
          233.9,
          206.9,
          191.68809523809523,
          217.6,
          193.4,
          222.3,
          171.3,
          189.2,
          130.3,
          219.7,
          191.68809523809523,
          224.6,
          206.2,
          209.8,
          179.6,
          201.9,
          195.5,
          201,
          148.5,
          206.9,
          191.68809523809523,
          195.9,
          201.2,
          180.3,
          203,
          216.1,
          186.9,
          176.8,
          195.6,
          185.1,
          184.6,
          199,
          203.1,
          202.4,
          193.8,
          205.2,
          196.5,
          206.7,
          189.7,
          154,
          191.68809523809523,
          230.1,
          168.5,
          194.4,
          175.8,
          209.5,
          198.7,
          222.1,
          186.4,
          208.3,
          167.1,
          192.6,
          238.5,
          201.6,
          133.2,
          184.3,
          191.68809523809523,
          189.4,
          224.5,
          169.7,
          191.68809523809523,
          172.9,
          172.2,
          185,
          215.2,
          189.6,
          177.1,
          241.7,
          172.9,
          184.6,
          128.5,
          205,
          181.8,
          186.4,
          236.5,
          207.9,
          191.68809523809523,
          170.6,
          185.22777777777776,
          206.9,
          171,
          228.1,
          195.2,
          205.4,
          199
         ],
         "yaxis": "y"
        }
       ],
       "layout": {
        "coloraxis": {
         "colorbar": {
          "title": {
           "text": "rank_group"
          }
         },
         "colorscale": [
          [
           0,
           "rgb(0,0,255)"
          ],
          [
           0.1,
           "rgb(51,153,255)"
          ],
          [
           0.2,
           "rgb(102,204,255)"
          ],
          [
           0.3,
           "rgb(153,204,255)"
          ],
          [
           0.4,
           "rgb(204,204,255)"
          ],
          [
           0.5,
           "rgb(255,255,255)"
          ],
          [
           0.6,
           "rgb(255,204,255)"
          ],
          [
           0.7,
           "rgb(255,153,255)"
          ],
          [
           0.8,
           "rgb(255,102,204)"
          ],
          [
           0.9,
           "rgb(255,102,102)"
          ],
          [
           1,
           "rgb(255,0,0)"
          ]
         ]
        },
        "legend": {
         "tracegroupgap": 0
        },
        "margin": {
         "t": 60
        },
        "template": {
         "data": {
          "bar": [
           {
            "error_x": {
             "color": "#2a3f5f"
            },
            "error_y": {
             "color": "#2a3f5f"
            },
            "marker": {
             "line": {
              "color": "#E5ECF6",
              "width": 0.5
             },
             "pattern": {
              "fillmode": "overlay",
              "size": 10,
              "solidity": 0.2
             }
            },
            "type": "bar"
           }
          ],
          "barpolar": [
           {
            "marker": {
             "line": {
              "color": "#E5ECF6",
              "width": 0.5
             },
             "pattern": {
              "fillmode": "overlay",
              "size": 10,
              "solidity": 0.2
             }
            },
            "type": "barpolar"
           }
          ],
          "carpet": [
           {
            "aaxis": {
             "endlinecolor": "#2a3f5f",
             "gridcolor": "white",
             "linecolor": "white",
             "minorgridcolor": "white",
             "startlinecolor": "#2a3f5f"
            },
            "baxis": {
             "endlinecolor": "#2a3f5f",
             "gridcolor": "white",
             "linecolor": "white",
             "minorgridcolor": "white",
             "startlinecolor": "#2a3f5f"
            },
            "type": "carpet"
           }
          ],
          "choropleth": [
           {
            "colorbar": {
             "outlinewidth": 0,
             "ticks": ""
            },
            "type": "choropleth"
           }
          ],
          "contour": [
           {
            "colorbar": {
             "outlinewidth": 0,
             "ticks": ""
            },
            "colorscale": [
             [
              0,
              "#0d0887"
             ],
             [
              0.1111111111111111,
              "#46039f"
             ],
             [
              0.2222222222222222,
              "#7201a8"
             ],
             [
              0.3333333333333333,
              "#9c179e"
             ],
             [
              0.4444444444444444,
              "#bd3786"
             ],
             [
              0.5555555555555556,
              "#d8576b"
             ],
             [
              0.6666666666666666,
              "#ed7953"
             ],
             [
              0.7777777777777778,
              "#fb9f3a"
             ],
             [
              0.8888888888888888,
              "#fdca26"
             ],
             [
              1,
              "#f0f921"
             ]
            ],
            "type": "contour"
           }
          ],
          "contourcarpet": [
           {
            "colorbar": {
             "outlinewidth": 0,
             "ticks": ""
            },
            "type": "contourcarpet"
           }
          ],
          "heatmap": [
           {
            "colorbar": {
             "outlinewidth": 0,
             "ticks": ""
            },
            "colorscale": [
             [
              0,
              "#0d0887"
             ],
             [
              0.1111111111111111,
              "#46039f"
             ],
             [
              0.2222222222222222,
              "#7201a8"
             ],
             [
              0.3333333333333333,
              "#9c179e"
             ],
             [
              0.4444444444444444,
              "#bd3786"
             ],
             [
              0.5555555555555556,
              "#d8576b"
             ],
             [
              0.6666666666666666,
              "#ed7953"
             ],
             [
              0.7777777777777778,
              "#fb9f3a"
             ],
             [
              0.8888888888888888,
              "#fdca26"
             ],
             [
              1,
              "#f0f921"
             ]
            ],
            "type": "heatmap"
           }
          ],
          "heatmapgl": [
           {
            "colorbar": {
             "outlinewidth": 0,
             "ticks": ""
            },
            "colorscale": [
             [
              0,
              "#0d0887"
             ],
             [
              0.1111111111111111,
              "#46039f"
             ],
             [
              0.2222222222222222,
              "#7201a8"
             ],
             [
              0.3333333333333333,
              "#9c179e"
             ],
             [
              0.4444444444444444,
              "#bd3786"
             ],
             [
              0.5555555555555556,
              "#d8576b"
             ],
             [
              0.6666666666666666,
              "#ed7953"
             ],
             [
              0.7777777777777778,
              "#fb9f3a"
             ],
             [
              0.8888888888888888,
              "#fdca26"
             ],
             [
              1,
              "#f0f921"
             ]
            ],
            "type": "heatmapgl"
           }
          ],
          "histogram": [
           {
            "marker": {
             "pattern": {
              "fillmode": "overlay",
              "size": 10,
              "solidity": 0.2
             }
            },
            "type": "histogram"
           }
          ],
          "histogram2d": [
           {
            "colorbar": {
             "outlinewidth": 0,
             "ticks": ""
            },
            "colorscale": [
             [
              0,
              "#0d0887"
             ],
             [
              0.1111111111111111,
              "#46039f"
             ],
             [
              0.2222222222222222,
              "#7201a8"
             ],
             [
              0.3333333333333333,
              "#9c179e"
             ],
             [
              0.4444444444444444,
              "#bd3786"
             ],
             [
              0.5555555555555556,
              "#d8576b"
             ],
             [
              0.6666666666666666,
              "#ed7953"
             ],
             [
              0.7777777777777778,
              "#fb9f3a"
             ],
             [
              0.8888888888888888,
              "#fdca26"
             ],
             [
              1,
              "#f0f921"
             ]
            ],
            "type": "histogram2d"
           }
          ],
          "histogram2dcontour": [
           {
            "colorbar": {
             "outlinewidth": 0,
             "ticks": ""
            },
            "colorscale": [
             [
              0,
              "#0d0887"
             ],
             [
              0.1111111111111111,
              "#46039f"
             ],
             [
              0.2222222222222222,
              "#7201a8"
             ],
             [
              0.3333333333333333,
              "#9c179e"
             ],
             [
              0.4444444444444444,
              "#bd3786"
             ],
             [
              0.5555555555555556,
              "#d8576b"
             ],
             [
              0.6666666666666666,
              "#ed7953"
             ],
             [
              0.7777777777777778,
              "#fb9f3a"
             ],
             [
              0.8888888888888888,
              "#fdca26"
             ],
             [
              1,
              "#f0f921"
             ]
            ],
            "type": "histogram2dcontour"
           }
          ],
          "mesh3d": [
           {
            "colorbar": {
             "outlinewidth": 0,
             "ticks": ""
            },
            "type": "mesh3d"
           }
          ],
          "parcoords": [
           {
            "line": {
             "colorbar": {
              "outlinewidth": 0,
              "ticks": ""
             }
            },
            "type": "parcoords"
           }
          ],
          "pie": [
           {
            "automargin": true,
            "type": "pie"
           }
          ],
          "scatter": [
           {
            "fillpattern": {
             "fillmode": "overlay",
             "size": 10,
             "solidity": 0.2
            },
            "type": "scatter"
           }
          ],
          "scatter3d": [
           {
            "line": {
             "colorbar": {
              "outlinewidth": 0,
              "ticks": ""
             }
            },
            "marker": {
             "colorbar": {
              "outlinewidth": 0,
              "ticks": ""
             }
            },
            "type": "scatter3d"
           }
          ],
          "scattercarpet": [
           {
            "marker": {
             "colorbar": {
              "outlinewidth": 0,
              "ticks": ""
             }
            },
            "type": "scattercarpet"
           }
          ],
          "scattergeo": [
           {
            "marker": {
             "colorbar": {
              "outlinewidth": 0,
              "ticks": ""
             }
            },
            "type": "scattergeo"
           }
          ],
          "scattergl": [
           {
            "marker": {
             "colorbar": {
              "outlinewidth": 0,
              "ticks": ""
             }
            },
            "type": "scattergl"
           }
          ],
          "scattermapbox": [
           {
            "marker": {
             "colorbar": {
              "outlinewidth": 0,
              "ticks": ""
             }
            },
            "type": "scattermapbox"
           }
          ],
          "scatterpolar": [
           {
            "marker": {
             "colorbar": {
              "outlinewidth": 0,
              "ticks": ""
             }
            },
            "type": "scatterpolar"
           }
          ],
          "scatterpolargl": [
           {
            "marker": {
             "colorbar": {
              "outlinewidth": 0,
              "ticks": ""
             }
            },
            "type": "scatterpolargl"
           }
          ],
          "scatterternary": [
           {
            "marker": {
             "colorbar": {
              "outlinewidth": 0,
              "ticks": ""
             }
            },
            "type": "scatterternary"
           }
          ],
          "surface": [
           {
            "colorbar": {
             "outlinewidth": 0,
             "ticks": ""
            },
            "colorscale": [
             [
              0,
              "#0d0887"
             ],
             [
              0.1111111111111111,
              "#46039f"
             ],
             [
              0.2222222222222222,
              "#7201a8"
             ],
             [
              0.3333333333333333,
              "#9c179e"
             ],
             [
              0.4444444444444444,
              "#bd3786"
             ],
             [
              0.5555555555555556,
              "#d8576b"
             ],
             [
              0.6666666666666666,
              "#ed7953"
             ],
             [
              0.7777777777777778,
              "#fb9f3a"
             ],
             [
              0.8888888888888888,
              "#fdca26"
             ],
             [
              1,
              "#f0f921"
             ]
            ],
            "type": "surface"
           }
          ],
          "table": [
           {
            "cells": {
             "fill": {
              "color": "#EBF0F8"
             },
             "line": {
              "color": "white"
             }
            },
            "header": {
             "fill": {
              "color": "#C8D4E3"
             },
             "line": {
              "color": "white"
             }
            },
            "type": "table"
           }
          ]
         },
         "layout": {
          "annotationdefaults": {
           "arrowcolor": "#2a3f5f",
           "arrowhead": 0,
           "arrowwidth": 1
          },
          "autotypenumbers": "strict",
          "coloraxis": {
           "colorbar": {
            "outlinewidth": 0,
            "ticks": ""
           }
          },
          "colorscale": {
           "diverging": [
            [
             0,
             "#8e0152"
            ],
            [
             0.1,
             "#c51b7d"
            ],
            [
             0.2,
             "#de77ae"
            ],
            [
             0.3,
             "#f1b6da"
            ],
            [
             0.4,
             "#fde0ef"
            ],
            [
             0.5,
             "#f7f7f7"
            ],
            [
             0.6,
             "#e6f5d0"
            ],
            [
             0.7,
             "#b8e186"
            ],
            [
             0.8,
             "#7fbc41"
            ],
            [
             0.9,
             "#4d9221"
            ],
            [
             1,
             "#276419"
            ]
           ],
           "sequential": [
            [
             0,
             "#0d0887"
            ],
            [
             0.1111111111111111,
             "#46039f"
            ],
            [
             0.2222222222222222,
             "#7201a8"
            ],
            [
             0.3333333333333333,
             "#9c179e"
            ],
            [
             0.4444444444444444,
             "#bd3786"
            ],
            [
             0.5555555555555556,
             "#d8576b"
            ],
            [
             0.6666666666666666,
             "#ed7953"
            ],
            [
             0.7777777777777778,
             "#fb9f3a"
            ],
            [
             0.8888888888888888,
             "#fdca26"
            ],
            [
             1,
             "#f0f921"
            ]
           ],
           "sequentialminus": [
            [
             0,
             "#0d0887"
            ],
            [
             0.1111111111111111,
             "#46039f"
            ],
            [
             0.2222222222222222,
             "#7201a8"
            ],
            [
             0.3333333333333333,
             "#9c179e"
            ],
            [
             0.4444444444444444,
             "#bd3786"
            ],
            [
             0.5555555555555556,
             "#d8576b"
            ],
            [
             0.6666666666666666,
             "#ed7953"
            ],
            [
             0.7777777777777778,
             "#fb9f3a"
            ],
            [
             0.8888888888888888,
             "#fdca26"
            ],
            [
             1,
             "#f0f921"
            ]
           ]
          },
          "colorway": [
           "#636efa",
           "#EF553B",
           "#00cc96",
           "#ab63fa",
           "#FFA15A",
           "#19d3f3",
           "#FF6692",
           "#B6E880",
           "#FF97FF",
           "#FECB52"
          ],
          "font": {
           "color": "#2a3f5f"
          },
          "geo": {
           "bgcolor": "white",
           "lakecolor": "white",
           "landcolor": "#E5ECF6",
           "showlakes": true,
           "showland": true,
           "subunitcolor": "white"
          },
          "hoverlabel": {
           "align": "left"
          },
          "hovermode": "closest",
          "mapbox": {
           "style": "light"
          },
          "paper_bgcolor": "white",
          "plot_bgcolor": "#E5ECF6",
          "polar": {
           "angularaxis": {
            "gridcolor": "white",
            "linecolor": "white",
            "ticks": ""
           },
           "bgcolor": "#E5ECF6",
           "radialaxis": {
            "gridcolor": "white",
            "linecolor": "white",
            "ticks": ""
           }
          },
          "scene": {
           "xaxis": {
            "backgroundcolor": "#E5ECF6",
            "gridcolor": "white",
            "gridwidth": 2,
            "linecolor": "white",
            "showbackground": true,
            "ticks": "",
            "zerolinecolor": "white"
           },
           "yaxis": {
            "backgroundcolor": "#E5ECF6",
            "gridcolor": "white",
            "gridwidth": 2,
            "linecolor": "white",
            "showbackground": true,
            "ticks": "",
            "zerolinecolor": "white"
           },
           "zaxis": {
            "backgroundcolor": "#E5ECF6",
            "gridcolor": "white",
            "gridwidth": 2,
            "linecolor": "white",
            "showbackground": true,
            "ticks": "",
            "zerolinecolor": "white"
           }
          },
          "shapedefaults": {
           "line": {
            "color": "#2a3f5f"
           }
          },
          "ternary": {
           "aaxis": {
            "gridcolor": "white",
            "linecolor": "white",
            "ticks": ""
           },
           "baxis": {
            "gridcolor": "white",
            "linecolor": "white",
            "ticks": ""
           },
           "bgcolor": "#E5ECF6",
           "caxis": {
            "gridcolor": "white",
            "linecolor": "white",
            "ticks": ""
           }
          },
          "title": {
           "x": 0.05
          },
          "xaxis": {
           "automargin": true,
           "gridcolor": "white",
           "linecolor": "white",
           "ticks": "",
           "title": {
            "standoff": 15
           },
           "zerolinecolor": "white",
           "zerolinewidth": 2
          },
          "yaxis": {
           "automargin": true,
           "gridcolor": "white",
           "linecolor": "white",
           "ticks": "",
           "title": {
            "standoff": 15
           },
           "zerolinecolor": "white",
           "zerolinewidth": 2
          }
         }
        },
        "xaxis": {
         "anchor": "y",
         "domain": [
          0,
          1
         ],
         "title": {
          "text": "rank_x"
         }
        },
        "yaxis": {
         "anchor": "x",
         "domain": [
          0,
          1
         ],
         "title": {
          "text": "pressure_rating"
         }
        }
       }
      }
     },
     "metadata": {},
     "output_type": "display_data"
    }
   ],
   "source": [
    "px.scatter(df,'rank_x','pressure_rating','rank_group', color_continuous_scale='picnic')"
   ]
  },
  {
   "cell_type": "code",
   "execution_count": 2,
   "metadata": {},
   "outputs": [],
   "source": [
    "import pandas as pd"
   ]
  },
  {
   "cell_type": "code",
   "execution_count": 10,
   "metadata": {},
   "outputs": [
    {
     "data": {
      "text/html": [
       "<div>\n",
       "<style scoped>\n",
       "    .dataframe tbody tr th:only-of-type {\n",
       "        vertical-align: middle;\n",
       "    }\n",
       "\n",
       "    .dataframe tbody tr th {\n",
       "        vertical-align: top;\n",
       "    }\n",
       "\n",
       "    .dataframe thead th {\n",
       "        text-align: right;\n",
       "    }\n",
       "</style>\n",
       "<table border=\"1\" class=\"dataframe\">\n",
       "  <thead>\n",
       "    <tr style=\"text-align: right;\">\n",
       "      <th></th>\n",
       "      <th>ATP</th>\n",
       "      <th>Location</th>\n",
       "      <th>Tournament</th>\n",
       "      <th>Date</th>\n",
       "      <th>Series</th>\n",
       "      <th>Court</th>\n",
       "      <th>Surface</th>\n",
       "      <th>Round</th>\n",
       "      <th>Best of</th>\n",
       "      <th>Winner</th>\n",
       "      <th>...</th>\n",
       "      <th>EXW</th>\n",
       "      <th>EXL</th>\n",
       "      <th>LBW</th>\n",
       "      <th>LBL</th>\n",
       "      <th>PSW</th>\n",
       "      <th>PSL</th>\n",
       "      <th>MaxW</th>\n",
       "      <th>MaxL</th>\n",
       "      <th>AvgW</th>\n",
       "      <th>AvgL</th>\n",
       "    </tr>\n",
       "  </thead>\n",
       "  <tbody>\n",
       "    <tr>\n",
       "      <th>0</th>\n",
       "      <td>6</td>\n",
       "      <td>Melbourne</td>\n",
       "      <td>Australian Open</td>\n",
       "      <td>15/01/18</td>\n",
       "      <td>Grand Slam</td>\n",
       "      <td>Outdoor</td>\n",
       "      <td>Hard</td>\n",
       "      <td>1st Round</td>\n",
       "      <td>5</td>\n",
       "      <td>Dolgopolov O.</td>\n",
       "      <td>...</td>\n",
       "      <td>1.02</td>\n",
       "      <td>10.00</td>\n",
       "      <td>1.05</td>\n",
       "      <td>10.00</td>\n",
       "      <td>1.03</td>\n",
       "      <td>18.28</td>\n",
       "      <td>1.06</td>\n",
       "      <td>21.25</td>\n",
       "      <td>1.03</td>\n",
       "      <td>13.72</td>\n",
       "    </tr>\n",
       "    <tr>\n",
       "      <th>1</th>\n",
       "      <td>6</td>\n",
       "      <td>Melbourne</td>\n",
       "      <td>Australian Open</td>\n",
       "      <td>15/01/18</td>\n",
       "      <td>Grand Slam</td>\n",
       "      <td>Outdoor</td>\n",
       "      <td>Hard</td>\n",
       "      <td>1st Round</td>\n",
       "      <td>5</td>\n",
       "      <td>Harrison R.</td>\n",
       "      <td>...</td>\n",
       "      <td>1.30</td>\n",
       "      <td>3.20</td>\n",
       "      <td>1.33</td>\n",
       "      <td>3.40</td>\n",
       "      <td>1.37</td>\n",
       "      <td>3.39</td>\n",
       "      <td>1.38</td>\n",
       "      <td>3.50</td>\n",
       "      <td>1.33</td>\n",
       "      <td>3.31</td>\n",
       "    </tr>\n",
       "    <tr>\n",
       "      <th>2</th>\n",
       "      <td>6</td>\n",
       "      <td>Melbourne</td>\n",
       "      <td>Australian Open</td>\n",
       "      <td>15/01/18</td>\n",
       "      <td>Grand Slam</td>\n",
       "      <td>Outdoor</td>\n",
       "      <td>Hard</td>\n",
       "      <td>1st Round</td>\n",
       "      <td>5</td>\n",
       "      <td>Edmund K.</td>\n",
       "      <td>...</td>\n",
       "      <td>2.85</td>\n",
       "      <td>1.37</td>\n",
       "      <td>3.00</td>\n",
       "      <td>1.40</td>\n",
       "      <td>2.97</td>\n",
       "      <td>1.45</td>\n",
       "      <td>3.10</td>\n",
       "      <td>1.46</td>\n",
       "      <td>2.92</td>\n",
       "      <td>1.41</td>\n",
       "    </tr>\n",
       "    <tr>\n",
       "      <th>3</th>\n",
       "      <td>6</td>\n",
       "      <td>Melbourne</td>\n",
       "      <td>Australian Open</td>\n",
       "      <td>15/01/18</td>\n",
       "      <td>Grand Slam</td>\n",
       "      <td>Outdoor</td>\n",
       "      <td>Hard</td>\n",
       "      <td>1st Round</td>\n",
       "      <td>5</td>\n",
       "      <td>Carreno Busta P.</td>\n",
       "      <td>...</td>\n",
       "      <td>1.25</td>\n",
       "      <td>3.60</td>\n",
       "      <td>1.36</td>\n",
       "      <td>3.25</td>\n",
       "      <td>1.27</td>\n",
       "      <td>4.22</td>\n",
       "      <td>1.33</td>\n",
       "      <td>4.30</td>\n",
       "      <td>1.28</td>\n",
       "      <td>3.73</td>\n",
       "    </tr>\n",
       "    <tr>\n",
       "      <th>4</th>\n",
       "      <td>6</td>\n",
       "      <td>Melbourne</td>\n",
       "      <td>Australian Open</td>\n",
       "      <td>15/01/18</td>\n",
       "      <td>Grand Slam</td>\n",
       "      <td>Outdoor</td>\n",
       "      <td>Hard</td>\n",
       "      <td>1st Round</td>\n",
       "      <td>5</td>\n",
       "      <td>Cuevas P.</td>\n",
       "      <td>...</td>\n",
       "      <td>1.60</td>\n",
       "      <td>2.20</td>\n",
       "      <td>1.61</td>\n",
       "      <td>2.25</td>\n",
       "      <td>1.77</td>\n",
       "      <td>2.18</td>\n",
       "      <td>1.77</td>\n",
       "      <td>2.45</td>\n",
       "      <td>1.64</td>\n",
       "      <td>2.27</td>\n",
       "    </tr>\n",
       "  </tbody>\n",
       "</table>\n",
       "<p>5 rows × 40 columns</p>\n",
       "</div>"
      ],
      "text/plain": [
       "   ATP   Location       Tournament      Date      Series    Court Surface  \\\n",
       "0    6  Melbourne  Australian Open  15/01/18  Grand Slam  Outdoor    Hard   \n",
       "1    6  Melbourne  Australian Open  15/01/18  Grand Slam  Outdoor    Hard   \n",
       "2    6  Melbourne  Australian Open  15/01/18  Grand Slam  Outdoor    Hard   \n",
       "3    6  Melbourne  Australian Open  15/01/18  Grand Slam  Outdoor    Hard   \n",
       "4    6  Melbourne  Australian Open  15/01/18  Grand Slam  Outdoor    Hard   \n",
       "\n",
       "       Round  Best of            Winner  ...   EXW    EXL   LBW    LBL   PSW  \\\n",
       "0  1st Round        5     Dolgopolov O.  ...  1.02  10.00  1.05  10.00  1.03   \n",
       "1  1st Round        5       Harrison R.  ...  1.30   3.20  1.33   3.40  1.37   \n",
       "2  1st Round        5         Edmund K.  ...  2.85   1.37  3.00   1.40  2.97   \n",
       "3  1st Round        5  Carreno Busta P.  ...  1.25   3.60  1.36   3.25  1.27   \n",
       "4  1st Round        5         Cuevas P.  ...  1.60   2.20  1.61   2.25  1.77   \n",
       "\n",
       "     PSL  MaxW   MaxL  AvgW   AvgL  \n",
       "0  18.28  1.06  21.25  1.03  13.72  \n",
       "1   3.39  1.38   3.50  1.33   3.31  \n",
       "2   1.45  3.10   1.46  2.92   1.41  \n",
       "3   4.22  1.33   4.30  1.28   3.73  \n",
       "4   2.18  1.77   2.45  1.64   2.27  \n",
       "\n",
       "[5 rows x 40 columns]"
      ]
     },
     "execution_count": 10,
     "metadata": {},
     "output_type": "execute_result"
    }
   ],
   "source": [
    "data = pd.read_csv('data/m2018.csv')\n",
    "data.head()"
   ]
  },
  {
   "cell_type": "code",
   "execution_count": 52,
   "metadata": {},
   "outputs": [],
   "source": [
    "names = list(data.loc[data.Round == '1st Round','Winner'])\n"
   ]
  },
  {
   "cell_type": "code",
   "execution_count": 53,
   "metadata": {},
   "outputs": [
    {
     "data": {
      "text/html": [
       "<div>\n",
       "<style scoped>\n",
       "    .dataframe tbody tr th:only-of-type {\n",
       "        vertical-align: middle;\n",
       "    }\n",
       "\n",
       "    .dataframe tbody tr th {\n",
       "        vertical-align: top;\n",
       "    }\n",
       "\n",
       "    .dataframe thead th {\n",
       "        text-align: right;\n",
       "    }\n",
       "</style>\n",
       "<table border=\"1\" class=\"dataframe\">\n",
       "  <thead>\n",
       "    <tr style=\"text-align: right;\">\n",
       "      <th></th>\n",
       "      <th>name</th>\n",
       "      <th>year</th>\n",
       "      <th>aces</th>\n",
       "      <th>double_faults</th>\n",
       "      <th>1st_serve</th>\n",
       "      <th>1st_serve_points_won</th>\n",
       "      <th>2nd_serve_points_won</th>\n",
       "      <th>break_points_faced</th>\n",
       "      <th>break_points_saved</th>\n",
       "      <th>service_games_played</th>\n",
       "      <th>...</th>\n",
       "      <th>total_points_won</th>\n",
       "      <th>rank_x</th>\n",
       "      <th>height (cm)</th>\n",
       "      <th>matches_played</th>\n",
       "      <th>rank_y</th>\n",
       "      <th>pressure_rating</th>\n",
       "      <th>break_pts_converted%</th>\n",
       "      <th>break_pts_saved%</th>\n",
       "      <th>tie_breaks%</th>\n",
       "      <th>deciding_sets%</th>\n",
       "    </tr>\n",
       "  </thead>\n",
       "  <tbody>\n",
       "    <tr>\n",
       "      <th>0</th>\n",
       "      <td>Rafael Nadal</td>\n",
       "      <td>2017</td>\n",
       "      <td>188</td>\n",
       "      <td>91</td>\n",
       "      <td>69%</td>\n",
       "      <td>74%</td>\n",
       "      <td>60%</td>\n",
       "      <td>230</td>\n",
       "      <td>72%</td>\n",
       "      <td>619</td>\n",
       "      <td>...</td>\n",
       "      <td>54%</td>\n",
       "      <td>9</td>\n",
       "      <td>185</td>\n",
       "      <td>17</td>\n",
       "      <td>14.0</td>\n",
       "      <td>230.8</td>\n",
       "      <td>39.9%</td>\n",
       "      <td>71.7%</td>\n",
       "      <td>55.6%</td>\n",
       "      <td>63.6%</td>\n",
       "    </tr>\n",
       "    <tr>\n",
       "      <th>1</th>\n",
       "      <td>Victor Estrella Burgos</td>\n",
       "      <td>2017</td>\n",
       "      <td>17</td>\n",
       "      <td>13</td>\n",
       "      <td>66%</td>\n",
       "      <td>69%</td>\n",
       "      <td>49%</td>\n",
       "      <td>23</td>\n",
       "      <td>65%</td>\n",
       "      <td>43</td>\n",
       "      <td>...</td>\n",
       "      <td>49%</td>\n",
       "      <td>103</td>\n",
       "      <td>170</td>\n",
       "      <td>20</td>\n",
       "      <td>NaN</td>\n",
       "      <td>173.0</td>\n",
       "      <td>NaN</td>\n",
       "      <td>NaN</td>\n",
       "      <td>NaN</td>\n",
       "      <td>NaN</td>\n",
       "    </tr>\n",
       "    <tr>\n",
       "      <th>2</th>\n",
       "      <td>Roger Federer</td>\n",
       "      <td>2017</td>\n",
       "      <td>424</td>\n",
       "      <td>87</td>\n",
       "      <td>61%</td>\n",
       "      <td>79%</td>\n",
       "      <td>59%</td>\n",
       "      <td>166</td>\n",
       "      <td>66%</td>\n",
       "      <td>590</td>\n",
       "      <td>...</td>\n",
       "      <td>55%</td>\n",
       "      <td>17</td>\n",
       "      <td>185</td>\n",
       "      <td>52</td>\n",
       "      <td>2.0</td>\n",
       "      <td>257.8</td>\n",
       "      <td>41.2%</td>\n",
       "      <td>66.3%</td>\n",
       "      <td>63.6%</td>\n",
       "      <td>86.7%</td>\n",
       "    </tr>\n",
       "    <tr>\n",
       "      <th>3</th>\n",
       "      <td>Aljaz Bedene</td>\n",
       "      <td>2017</td>\n",
       "      <td>127</td>\n",
       "      <td>45</td>\n",
       "      <td>58%</td>\n",
       "      <td>73%</td>\n",
       "      <td>48%</td>\n",
       "      <td>85</td>\n",
       "      <td>47%</td>\n",
       "      <td>175</td>\n",
       "      <td>...</td>\n",
       "      <td>49%</td>\n",
       "      <td>108</td>\n",
       "      <td>183</td>\n",
       "      <td>17</td>\n",
       "      <td>NaN</td>\n",
       "      <td>199.6</td>\n",
       "      <td>NaN</td>\n",
       "      <td>NaN</td>\n",
       "      <td>NaN</td>\n",
       "      <td>NaN</td>\n",
       "    </tr>\n",
       "    <tr>\n",
       "      <th>4</th>\n",
       "      <td>Grigor Dimitrov</td>\n",
       "      <td>2017</td>\n",
       "      <td>408</td>\n",
       "      <td>184</td>\n",
       "      <td>64%</td>\n",
       "      <td>78%</td>\n",
       "      <td>52%</td>\n",
       "      <td>262</td>\n",
       "      <td>71%</td>\n",
       "      <td>636</td>\n",
       "      <td>...</td>\n",
       "      <td>53%</td>\n",
       "      <td>15</td>\n",
       "      <td>191</td>\n",
       "      <td>35</td>\n",
       "      <td>11.0</td>\n",
       "      <td>235.8</td>\n",
       "      <td>36.8%</td>\n",
       "      <td>70.6%</td>\n",
       "      <td>65.2%</td>\n",
       "      <td>63.2%</td>\n",
       "    </tr>\n",
       "  </tbody>\n",
       "</table>\n",
       "<p>5 rows × 29 columns</p>\n",
       "</div>"
      ],
      "text/plain": [
       "                     name  year  aces  double_faults 1st_serve  \\\n",
       "0            Rafael Nadal  2017   188             91       69%   \n",
       "1  Victor Estrella Burgos  2017    17             13       66%   \n",
       "2           Roger Federer  2017   424             87       61%   \n",
       "3            Aljaz Bedene  2017   127             45       58%   \n",
       "4         Grigor Dimitrov  2017   408            184       64%   \n",
       "\n",
       "  1st_serve_points_won 2nd_serve_points_won  break_points_faced  \\\n",
       "0                  74%                  60%                 230   \n",
       "1                  69%                  49%                  23   \n",
       "2                  79%                  59%                 166   \n",
       "3                  73%                  48%                  85   \n",
       "4                  78%                  52%                 262   \n",
       "\n",
       "  break_points_saved  service_games_played  ... total_points_won rank_x  \\\n",
       "0                72%                   619  ...              54%      9   \n",
       "1                65%                    43  ...              49%    103   \n",
       "2                66%                   590  ...              55%     17   \n",
       "3                47%                   175  ...              49%    108   \n",
       "4                71%                   636  ...              53%     15   \n",
       "\n",
       "  height (cm) matches_played  rank_y pressure_rating  break_pts_converted%  \\\n",
       "0         185             17    14.0           230.8                 39.9%   \n",
       "1         170             20     NaN           173.0                   NaN   \n",
       "2         185             52     2.0           257.8                 41.2%   \n",
       "3         183             17     NaN           199.6                   NaN   \n",
       "4         191             35    11.0           235.8                 36.8%   \n",
       "\n",
       "  break_pts_saved% tie_breaks% deciding_sets%  \n",
       "0            71.7%       55.6%          63.6%  \n",
       "1              NaN         NaN            NaN  \n",
       "2            66.3%       63.6%          86.7%  \n",
       "3              NaN         NaN            NaN  \n",
       "4            70.6%       65.2%          63.2%  \n",
       "\n",
       "[5 rows x 29 columns]"
      ]
     },
     "execution_count": 53,
     "metadata": {},
     "output_type": "execute_result"
    }
   ],
   "source": [
    "df = pd.read_csv('data/aus-open-player-stats-2017.csv')\n",
    "df.head()"
   ]
  },
  {
   "cell_type": "code",
   "execution_count": 54,
   "metadata": {},
   "outputs": [],
   "source": [
    "names_to_lookup = set(data.Winner)\n",
    "names_to_lookup.update(set(data.Loser))"
   ]
  },
  {
   "cell_type": "code",
   "execution_count": 55,
   "metadata": {},
   "outputs": [],
   "source": [
    "def change_name(name: str) -> str:\n",
    "    \"\"\"change order of name from first last to last first\n",
    "\n",
    "    Args:\n",
    "        name (str): name of player as first last\n",
    "\n",
    "    Returns:\n",
    "        str: last first name\n",
    "    \"\"\"\n",
    "    split_names = name.split()\n",
    "    f_name = split_names.pop(0)\n",
    "    split_names.append(f_name)\n",
    "    final_name = \" \".join(split_names)\n",
    "    return final_name"
   ]
  },
  {
   "cell_type": "code",
   "execution_count": 56,
   "metadata": {},
   "outputs": [],
   "source": [
    "df['new_name'] = df['name'].apply(change_name)\n",
    "df['other_name'] = df['new_name'].apply(\n",
    "    lambda x: get_close_matches(x, names_to_lookup, 1, cutoff=0.5)[0])"
   ]
  },
  {
   "cell_type": "code",
   "execution_count": 57,
   "metadata": {},
   "outputs": [
    {
     "data": {
      "text/html": [
       "<div>\n",
       "<style scoped>\n",
       "    .dataframe tbody tr th:only-of-type {\n",
       "        vertical-align: middle;\n",
       "    }\n",
       "\n",
       "    .dataframe tbody tr th {\n",
       "        vertical-align: top;\n",
       "    }\n",
       "\n",
       "    .dataframe thead th {\n",
       "        text-align: right;\n",
       "    }\n",
       "</style>\n",
       "<table border=\"1\" class=\"dataframe\">\n",
       "  <thead>\n",
       "    <tr style=\"text-align: right;\">\n",
       "      <th></th>\n",
       "      <th>name</th>\n",
       "      <th>year</th>\n",
       "      <th>aces</th>\n",
       "      <th>double_faults</th>\n",
       "      <th>1st_serve</th>\n",
       "      <th>1st_serve_points_won</th>\n",
       "      <th>2nd_serve_points_won</th>\n",
       "      <th>break_points_faced</th>\n",
       "      <th>break_points_saved</th>\n",
       "      <th>service_games_played</th>\n",
       "      <th>...</th>\n",
       "      <th>height (cm)</th>\n",
       "      <th>matches_played</th>\n",
       "      <th>rank_y</th>\n",
       "      <th>pressure_rating</th>\n",
       "      <th>break_pts_converted%</th>\n",
       "      <th>break_pts_saved%</th>\n",
       "      <th>tie_breaks%</th>\n",
       "      <th>deciding_sets%</th>\n",
       "      <th>new_name</th>\n",
       "      <th>other_name</th>\n",
       "    </tr>\n",
       "  </thead>\n",
       "  <tbody>\n",
       "    <tr>\n",
       "      <th>0</th>\n",
       "      <td>Rafael Nadal</td>\n",
       "      <td>2017</td>\n",
       "      <td>188</td>\n",
       "      <td>91</td>\n",
       "      <td>69%</td>\n",
       "      <td>74%</td>\n",
       "      <td>60%</td>\n",
       "      <td>230</td>\n",
       "      <td>72%</td>\n",
       "      <td>619</td>\n",
       "      <td>...</td>\n",
       "      <td>185</td>\n",
       "      <td>17</td>\n",
       "      <td>14.0</td>\n",
       "      <td>230.8</td>\n",
       "      <td>39.9%</td>\n",
       "      <td>71.7%</td>\n",
       "      <td>55.6%</td>\n",
       "      <td>63.6%</td>\n",
       "      <td>Nadal Rafael</td>\n",
       "      <td>Nadal R.</td>\n",
       "    </tr>\n",
       "    <tr>\n",
       "      <th>2</th>\n",
       "      <td>Roger Federer</td>\n",
       "      <td>2017</td>\n",
       "      <td>424</td>\n",
       "      <td>87</td>\n",
       "      <td>61%</td>\n",
       "      <td>79%</td>\n",
       "      <td>59%</td>\n",
       "      <td>166</td>\n",
       "      <td>66%</td>\n",
       "      <td>590</td>\n",
       "      <td>...</td>\n",
       "      <td>185</td>\n",
       "      <td>52</td>\n",
       "      <td>2.0</td>\n",
       "      <td>257.8</td>\n",
       "      <td>41.2%</td>\n",
       "      <td>66.3%</td>\n",
       "      <td>63.6%</td>\n",
       "      <td>86.7%</td>\n",
       "      <td>Federer Roger</td>\n",
       "      <td>Federer R.</td>\n",
       "    </tr>\n",
       "    <tr>\n",
       "      <th>4</th>\n",
       "      <td>Grigor Dimitrov</td>\n",
       "      <td>2017</td>\n",
       "      <td>408</td>\n",
       "      <td>184</td>\n",
       "      <td>64%</td>\n",
       "      <td>78%</td>\n",
       "      <td>52%</td>\n",
       "      <td>262</td>\n",
       "      <td>71%</td>\n",
       "      <td>636</td>\n",
       "      <td>...</td>\n",
       "      <td>191</td>\n",
       "      <td>35</td>\n",
       "      <td>11.0</td>\n",
       "      <td>235.8</td>\n",
       "      <td>36.8%</td>\n",
       "      <td>70.6%</td>\n",
       "      <td>65.2%</td>\n",
       "      <td>63.2%</td>\n",
       "      <td>Dimitrov Grigor</td>\n",
       "      <td>Dimitrov G.</td>\n",
       "    </tr>\n",
       "    <tr>\n",
       "      <th>6</th>\n",
       "      <td>Alexander Zverev</td>\n",
       "      <td>2017</td>\n",
       "      <td>357</td>\n",
       "      <td>191</td>\n",
       "      <td>62%</td>\n",
       "      <td>75%</td>\n",
       "      <td>52%</td>\n",
       "      <td>252</td>\n",
       "      <td>67%</td>\n",
       "      <td>560</td>\n",
       "      <td>...</td>\n",
       "      <td>198</td>\n",
       "      <td>57</td>\n",
       "      <td>16.0</td>\n",
       "      <td>227.8</td>\n",
       "      <td>43.7%</td>\n",
       "      <td>67.1%</td>\n",
       "      <td>59.1%</td>\n",
       "      <td>57.9%</td>\n",
       "      <td>Zverev Alexander</td>\n",
       "      <td>Zverev A.</td>\n",
       "    </tr>\n",
       "    <tr>\n",
       "      <th>8</th>\n",
       "      <td>Dominic Thiem</td>\n",
       "      <td>2017</td>\n",
       "      <td>272</td>\n",
       "      <td>136</td>\n",
       "      <td>58%</td>\n",
       "      <td>74%</td>\n",
       "      <td>51%</td>\n",
       "      <td>284</td>\n",
       "      <td>65%</td>\n",
       "      <td>533</td>\n",
       "      <td>...</td>\n",
       "      <td>185</td>\n",
       "      <td>39</td>\n",
       "      <td>58.0</td>\n",
       "      <td>172.4</td>\n",
       "      <td>39.4%</td>\n",
       "      <td>65.5%</td>\n",
       "      <td>38.9%</td>\n",
       "      <td>28.6%</td>\n",
       "      <td>Thiem Dominic</td>\n",
       "      <td>Thiem D.</td>\n",
       "    </tr>\n",
       "  </tbody>\n",
       "</table>\n",
       "<p>5 rows × 31 columns</p>\n",
       "</div>"
      ],
      "text/plain": [
       "               name  year  aces  double_faults 1st_serve 1st_serve_points_won  \\\n",
       "0      Rafael Nadal  2017   188             91       69%                  74%   \n",
       "2     Roger Federer  2017   424             87       61%                  79%   \n",
       "4   Grigor Dimitrov  2017   408            184       64%                  78%   \n",
       "6  Alexander Zverev  2017   357            191       62%                  75%   \n",
       "8     Dominic Thiem  2017   272            136       58%                  74%   \n",
       "\n",
       "  2nd_serve_points_won  break_points_faced break_points_saved  \\\n",
       "0                  60%                 230                72%   \n",
       "2                  59%                 166                66%   \n",
       "4                  52%                 262                71%   \n",
       "6                  52%                 252                67%   \n",
       "8                  51%                 284                65%   \n",
       "\n",
       "   service_games_played  ... height (cm) matches_played rank_y  \\\n",
       "0                   619  ...         185             17   14.0   \n",
       "2                   590  ...         185             52    2.0   \n",
       "4                   636  ...         191             35   11.0   \n",
       "6                   560  ...         198             57   16.0   \n",
       "8                   533  ...         185             39   58.0   \n",
       "\n",
       "  pressure_rating  break_pts_converted% break_pts_saved%  tie_breaks%  \\\n",
       "0           230.8                 39.9%            71.7%        55.6%   \n",
       "2           257.8                 41.2%            66.3%        63.6%   \n",
       "4           235.8                 36.8%            70.6%        65.2%   \n",
       "6           227.8                 43.7%            67.1%        59.1%   \n",
       "8           172.4                 39.4%            65.5%        38.9%   \n",
       "\n",
       "  deciding_sets%          new_name   other_name  \n",
       "0          63.6%      Nadal Rafael     Nadal R.  \n",
       "2          86.7%     Federer Roger   Federer R.  \n",
       "4          63.2%   Dimitrov Grigor  Dimitrov G.  \n",
       "6          57.9%  Zverev Alexander    Zverev A.  \n",
       "8          28.6%     Thiem Dominic     Thiem D.  \n",
       "\n",
       "[5 rows x 31 columns]"
      ]
     },
     "execution_count": 57,
     "metadata": {},
     "output_type": "execute_result"
    }
   ],
   "source": [
    "df = df.loc[df.other_name.isin(names),:]\n",
    "df.head()"
   ]
  },
  {
   "cell_type": "code",
   "execution_count": 58,
   "metadata": {},
   "outputs": [
    {
     "data": {
      "text/html": [
       "<div>\n",
       "<style scoped>\n",
       "    .dataframe tbody tr th:only-of-type {\n",
       "        vertical-align: middle;\n",
       "    }\n",
       "\n",
       "    .dataframe tbody tr th {\n",
       "        vertical-align: top;\n",
       "    }\n",
       "\n",
       "    .dataframe thead th {\n",
       "        text-align: right;\n",
       "    }\n",
       "</style>\n",
       "<table border=\"1\" class=\"dataframe\">\n",
       "  <thead>\n",
       "    <tr style=\"text-align: right;\">\n",
       "      <th></th>\n",
       "      <th>name</th>\n",
       "      <th>rank_x</th>\n",
       "    </tr>\n",
       "  </thead>\n",
       "  <tbody>\n",
       "    <tr>\n",
       "      <th>0</th>\n",
       "      <td>Novak Djokovic</td>\n",
       "      <td>2.0</td>\n",
       "    </tr>\n",
       "    <tr>\n",
       "      <th>1</th>\n",
       "      <td>Stan Wawrinka</td>\n",
       "      <td>4.0</td>\n",
       "    </tr>\n",
       "    <tr>\n",
       "      <th>2</th>\n",
       "      <td>Gael Monfils</td>\n",
       "      <td>6.0</td>\n",
       "    </tr>\n",
       "    <tr>\n",
       "      <th>3</th>\n",
       "      <td>Marin Cilic</td>\n",
       "      <td>7.0</td>\n",
       "    </tr>\n",
       "    <tr>\n",
       "      <th>4</th>\n",
       "      <td>Dominic Thiem</td>\n",
       "      <td>8.0</td>\n",
       "    </tr>\n",
       "    <tr>\n",
       "      <th>5</th>\n",
       "      <td>Rafael Nadal</td>\n",
       "      <td>9.0</td>\n",
       "    </tr>\n",
       "    <tr>\n",
       "      <th>6</th>\n",
       "      <td>Tomas Berdych</td>\n",
       "      <td>10.0</td>\n",
       "    </tr>\n",
       "    <tr>\n",
       "      <th>7</th>\n",
       "      <td>David Goffin</td>\n",
       "      <td>11.0</td>\n",
       "    </tr>\n",
       "    <tr>\n",
       "      <th>8</th>\n",
       "      <td>Jo-Wilfried Tsonga</td>\n",
       "      <td>12.0</td>\n",
       "    </tr>\n",
       "    <tr>\n",
       "      <th>9</th>\n",
       "      <td>Nick Kyrgios</td>\n",
       "      <td>14.0</td>\n",
       "    </tr>\n",
       "    <tr>\n",
       "      <th>10</th>\n",
       "      <td>Grigor Dimitrov</td>\n",
       "      <td>15.0</td>\n",
       "    </tr>\n",
       "    <tr>\n",
       "      <th>11</th>\n",
       "      <td>Roger Federer</td>\n",
       "      <td>17.0</td>\n",
       "    </tr>\n",
       "    <tr>\n",
       "      <th>12</th>\n",
       "      <td>Richard Gasquet</td>\n",
       "      <td>18.0</td>\n",
       "    </tr>\n",
       "    <tr>\n",
       "      <th>13</th>\n",
       "      <td>Ivo Karlovic</td>\n",
       "      <td>20.0</td>\n",
       "    </tr>\n",
       "    <tr>\n",
       "      <th>14</th>\n",
       "      <td>Pablo Cuevas</td>\n",
       "      <td>22.0</td>\n",
       "    </tr>\n",
       "    <tr>\n",
       "      <th>15</th>\n",
       "      <td>Alexander Zverev</td>\n",
       "      <td>24.0</td>\n",
       "    </tr>\n",
       "    <tr>\n",
       "      <th>16</th>\n",
       "      <td>Gilles Simon</td>\n",
       "      <td>25.0</td>\n",
       "    </tr>\n",
       "    <tr>\n",
       "      <th>17</th>\n",
       "      <td>Albert Ramos-Vinolas</td>\n",
       "      <td>26.0</td>\n",
       "    </tr>\n",
       "    <tr>\n",
       "      <th>18</th>\n",
       "      <td>Viktor Troicki</td>\n",
       "      <td>29.0</td>\n",
       "    </tr>\n",
       "    <tr>\n",
       "      <th>19</th>\n",
       "      <td>Pablo Carreno Busta</td>\n",
       "      <td>30.0</td>\n",
       "    </tr>\n",
       "    <tr>\n",
       "      <th>20</th>\n",
       "      <td>Sam Querrey</td>\n",
       "      <td>31.0</td>\n",
       "    </tr>\n",
       "    <tr>\n",
       "      <th>21</th>\n",
       "      <td>Gilles Muller</td>\n",
       "      <td>34.0</td>\n",
       "    </tr>\n",
       "    <tr>\n",
       "      <th>22</th>\n",
       "      <td>Marcos Baghdatis</td>\n",
       "      <td>36.0</td>\n",
       "    </tr>\n",
       "    <tr>\n",
       "      <th>23</th>\n",
       "      <td>Juan Martin del Potro</td>\n",
       "      <td>39.0</td>\n",
       "    </tr>\n",
       "    <tr>\n",
       "      <th>24</th>\n",
       "      <td>Fernando Verdasco</td>\n",
       "      <td>40.0</td>\n",
       "    </tr>\n",
       "    <tr>\n",
       "      <th>25</th>\n",
       "      <td>Joao Sousa</td>\n",
       "      <td>44.0</td>\n",
       "    </tr>\n",
       "    <tr>\n",
       "      <th>26</th>\n",
       "      <td>Kyle Edmund</td>\n",
       "      <td>45.0</td>\n",
       "    </tr>\n",
       "    <tr>\n",
       "      <th>27</th>\n",
       "      <td>Fabio Fognini</td>\n",
       "      <td>47.0</td>\n",
       "    </tr>\n",
       "    <tr>\n",
       "      <th>28</th>\n",
       "      <td>Karen Khachanov</td>\n",
       "      <td>51.0</td>\n",
       "    </tr>\n",
       "    <tr>\n",
       "      <th>29</th>\n",
       "      <td>Diego Schwartzman</td>\n",
       "      <td>52.0</td>\n",
       "    </tr>\n",
       "    <tr>\n",
       "      <th>30</th>\n",
       "      <td>Jiri Vesely</td>\n",
       "      <td>54.0</td>\n",
       "    </tr>\n",
       "    <tr>\n",
       "      <th>31</th>\n",
       "      <td>Malek Jaziri</td>\n",
       "      <td>56.0</td>\n",
       "    </tr>\n",
       "    <tr>\n",
       "      <th>32</th>\n",
       "      <td>Adrian Mannarino</td>\n",
       "      <td>60.0</td>\n",
       "    </tr>\n",
       "    <tr>\n",
       "      <th>33</th>\n",
       "      <td>Alexandr Dolgopolov</td>\n",
       "      <td>63.0</td>\n",
       "    </tr>\n",
       "    <tr>\n",
       "      <th>34</th>\n",
       "      <td>Jan-Lennard Struff</td>\n",
       "      <td>64.0</td>\n",
       "    </tr>\n",
       "  </tbody>\n",
       "</table>\n",
       "</div>"
      ],
      "text/plain": [
       "                     name  rank_x\n",
       "0          Novak Djokovic     2.0\n",
       "1           Stan Wawrinka     4.0\n",
       "2            Gael Monfils     6.0\n",
       "3             Marin Cilic     7.0\n",
       "4           Dominic Thiem     8.0\n",
       "5            Rafael Nadal     9.0\n",
       "6           Tomas Berdych    10.0\n",
       "7            David Goffin    11.0\n",
       "8      Jo-Wilfried Tsonga    12.0\n",
       "9            Nick Kyrgios    14.0\n",
       "10        Grigor Dimitrov    15.0\n",
       "11          Roger Federer    17.0\n",
       "12        Richard Gasquet    18.0\n",
       "13           Ivo Karlovic    20.0\n",
       "14           Pablo Cuevas    22.0\n",
       "15       Alexander Zverev    24.0\n",
       "16           Gilles Simon    25.0\n",
       "17   Albert Ramos-Vinolas    26.0\n",
       "18         Viktor Troicki    29.0\n",
       "19    Pablo Carreno Busta    30.0\n",
       "20            Sam Querrey    31.0\n",
       "21          Gilles Muller    34.0\n",
       "22       Marcos Baghdatis    36.0\n",
       "23  Juan Martin del Potro    39.0\n",
       "24      Fernando Verdasco    40.0\n",
       "25             Joao Sousa    44.0\n",
       "26            Kyle Edmund    45.0\n",
       "27          Fabio Fognini    47.0\n",
       "28        Karen Khachanov    51.0\n",
       "29      Diego Schwartzman    52.0\n",
       "30            Jiri Vesely    54.0\n",
       "31           Malek Jaziri    56.0\n",
       "32       Adrian Mannarino    60.0\n",
       "33    Alexandr Dolgopolov    63.0\n",
       "34     Jan-Lennard Struff    64.0"
      ]
     },
     "execution_count": 58,
     "metadata": {},
     "output_type": "execute_result"
    }
   ],
   "source": [
    "df['rank_x'] = df['rank_x'].astype('float64')\n",
    "df[df.rank_x <= 64].sort_values('rank_x')[['name','rank_x']].reset_index(drop=True)\n",
    "\n"
   ]
  },
  {
   "cell_type": "code",
   "execution_count": null,
   "metadata": {},
   "outputs": [],
   "source": []
  }
 ],
 "metadata": {
  "kernelspec": {
   "display_name": "venv",
   "language": "python",
   "name": "python3"
  },
  "language_info": {
   "codemirror_mode": {
    "name": "ipython",
    "version": 3
   },
   "file_extension": ".py",
   "mimetype": "text/x-python",
   "name": "python",
   "nbconvert_exporter": "python",
   "pygments_lexer": "ipython3",
   "version": "3.11.2"
  },
  "orig_nbformat": 4
 },
 "nbformat": 4,
 "nbformat_minor": 2
}
